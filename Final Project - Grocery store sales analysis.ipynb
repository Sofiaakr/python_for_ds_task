{
 "cells": [
  {
   "cell_type": "markdown",
   "metadata": {
    "ExecuteTime": {
     "end_time": "2022-12-18T08:04:15.713512Z",
     "start_time": "2022-12-18T08:04:15.663451Z"
    }
   },
   "source": [
    "# Вітаю на фінальному проєкті!\n",
    "Протягом курсу ми навчились завантажувати дані в Python, трансформувати їх, чистити, агрегувати, знаходити з допомогою даних відповіді на наші питання. \n",
    "Задача фінального проєкту - продемонструвати той рівень роботи з даними, на якому ви є зараз. \n",
    "\n",
    "Цей ноутбук буде присвячений аналізу даних з файла `Grocery DataBase.xlsx`, який є в папці `Дані` на Диску. Так, це Excel файл, але ми можемо дуже просто завантажувати дані з нього у Python. Покажу пару команд для роботи з Excel файлом."
   ]
  },
  {
   "cell_type": "markdown",
   "metadata": {},
   "source": [
    "Для початку встановимо бібліотеку, яка потрібна для роботи з Excel файлами з pandas. Можна встановити тут, або в терміналі, але якщо Ви встановлюєте в терміналі, то після того треба перезапустити ядро (Kernel) ноутбуку, аби бібліотека точно підтягнулась. Іноді підтягується і без того, але це на випадок, що робити, якщо компілятор каже, що її не бачить."
   ]
  },
  {
   "cell_type": "code",
   "execution_count": 2,
   "metadata": {
    "ExecuteTime": {
     "end_time": "2023-09-05T14:55:50.086826Z",
     "start_time": "2023-09-05T14:55:46.144023Z"
    }
   },
   "outputs": [
    {
     "name": "stdout",
     "output_type": "stream",
     "text": [
      "Requirement already satisfied: openpyxl in ./opt/anaconda3/lib/python3.8/site-packages (3.0.5)\r\n",
      "Requirement already satisfied: et-xmlfile in ./opt/anaconda3/lib/python3.8/site-packages (from openpyxl) (1.0.1)\r\n",
      "Requirement already satisfied: jdcal in ./opt/anaconda3/lib/python3.8/site-packages (from openpyxl) (1.4.1)\r\n"
     ]
    }
   ],
   "source": [
    "!pip install openpyxl"
   ]
  },
  {
   "cell_type": "code",
   "execution_count": 3,
   "metadata": {
    "ExecuteTime": {
     "end_time": "2023-09-05T14:55:51.611370Z",
     "start_time": "2023-09-05T14:55:50.092589Z"
    }
   },
   "outputs": [],
   "source": [
    "import pandas as pd"
   ]
  },
  {
   "cell_type": "code",
   "execution_count": 4,
   "metadata": {
    "ExecuteTime": {
     "end_time": "2023-09-05T14:55:54.683802Z",
     "start_time": "2023-09-05T14:55:51.614835Z"
    }
   },
   "outputs": [],
   "source": [
    "from matplotlib import pyplot as plt\n",
    "import seaborn as sns"
   ]
  },
  {
   "cell_type": "markdown",
   "metadata": {},
   "source": [
    "Ось так можемо переглянути, які є листки в Excel файлі:"
   ]
  },
  {
   "cell_type": "code",
   "execution_count": 5,
   "metadata": {
    "ExecuteTime": {
     "end_time": "2023-09-05T14:55:54.691378Z",
     "start_time": "2023-09-05T14:55:54.687877Z"
    }
   },
   "outputs": [],
   "source": [
    "# замініть на шлях до файлу на своєму комп`ютері\n",
    "path_to_file = 'Grocery Database.xlsx'"
   ]
  },
  {
   "cell_type": "code",
   "execution_count": 6,
   "metadata": {
    "ExecuteTime": {
     "end_time": "2023-09-05T14:56:12.323568Z",
     "start_time": "2023-09-05T14:55:54.694123Z"
    },
    "scrolled": true
   },
   "outputs": [
    {
     "data": {
      "text/plain": [
       "['Grosto DB', 'Sheet2', 'Fact Summary']"
      ]
     },
     "execution_count": 6,
     "metadata": {},
     "output_type": "execute_result"
    }
   ],
   "source": [
    "xl = pd.ExcelFile(path_to_file)\n",
    "xl.sheet_names\n",
    "\n"
   ]
  },
  {
   "cell_type": "markdown",
   "metadata": {},
   "source": [
    "А так можемо зчитати конкретний листок:"
   ]
  },
  {
   "cell_type": "code",
   "execution_count": 7,
   "metadata": {
    "ExecuteTime": {
     "end_time": "2023-09-05T14:56:12.359617Z",
     "start_time": "2023-09-05T14:56:12.325945Z"
    }
   },
   "outputs": [
    {
     "data": {
      "text/html": [
       "<div>\n",
       "<style scoped>\n",
       "    .dataframe tbody tr th:only-of-type {\n",
       "        vertical-align: middle;\n",
       "    }\n",
       "\n",
       "    .dataframe tbody tr th {\n",
       "        vertical-align: top;\n",
       "    }\n",
       "\n",
       "    .dataframe thead th {\n",
       "        text-align: right;\n",
       "    }\n",
       "</style>\n",
       "<table border=\"1\" class=\"dataframe\">\n",
       "  <thead>\n",
       "    <tr style=\"text-align: right;\">\n",
       "      <th></th>\n",
       "      <th>S.No.</th>\n",
       "      <th>Column Name</th>\n",
       "      <th>Description of the Column names</th>\n",
       "    </tr>\n",
       "  </thead>\n",
       "  <tbody>\n",
       "    <tr>\n",
       "      <th>0</th>\n",
       "      <td>1</td>\n",
       "      <td>Receipt Number</td>\n",
       "      <td>Transaction Number</td>\n",
       "    </tr>\n",
       "    <tr>\n",
       "      <th>1</th>\n",
       "      <td>2</td>\n",
       "      <td>Date</td>\n",
       "      <td>Date of Transaction</td>\n",
       "    </tr>\n",
       "    <tr>\n",
       "      <th>2</th>\n",
       "      <td>3</td>\n",
       "      <td>Year</td>\n",
       "      <td>Year of Transaction</td>\n",
       "    </tr>\n",
       "    <tr>\n",
       "      <th>3</th>\n",
       "      <td>4</td>\n",
       "      <td>Month</td>\n",
       "      <td>Month of Transaction</td>\n",
       "    </tr>\n",
       "    <tr>\n",
       "      <th>4</th>\n",
       "      <td>5</td>\n",
       "      <td>Time</td>\n",
       "      <td>Time of the transaction</td>\n",
       "    </tr>\n",
       "    <tr>\n",
       "      <th>5</th>\n",
       "      <td>6</td>\n",
       "      <td>Mobile Number</td>\n",
       "      <td>Monbile number of the customer</td>\n",
       "    </tr>\n",
       "    <tr>\n",
       "      <th>6</th>\n",
       "      <td>7</td>\n",
       "      <td>Membership ID</td>\n",
       "      <td>Unique Membership ID of the Customer</td>\n",
       "    </tr>\n",
       "    <tr>\n",
       "      <th>7</th>\n",
       "      <td>8</td>\n",
       "      <td>Loyalty Card Points</td>\n",
       "      <td>Loyalty Points earned by customer (10 Points/1...</td>\n",
       "    </tr>\n",
       "    <tr>\n",
       "      <th>8</th>\n",
       "      <td>9</td>\n",
       "      <td>Age</td>\n",
       "      <td>Age of the Customer in the Company Database</td>\n",
       "    </tr>\n",
       "    <tr>\n",
       "      <th>9</th>\n",
       "      <td>10</td>\n",
       "      <td>Gender</td>\n",
       "      <td>Gender of the customer</td>\n",
       "    </tr>\n",
       "    <tr>\n",
       "      <th>10</th>\n",
       "      <td>11</td>\n",
       "      <td>City</td>\n",
       "      <td>City Name of store</td>\n",
       "    </tr>\n",
       "    <tr>\n",
       "      <th>11</th>\n",
       "      <td>12</td>\n",
       "      <td>Country</td>\n",
       "      <td>Country Name of store</td>\n",
       "    </tr>\n",
       "    <tr>\n",
       "      <th>12</th>\n",
       "      <td>13</td>\n",
       "      <td>Category</td>\n",
       "      <td>Category of Item bought by customer</td>\n",
       "    </tr>\n",
       "    <tr>\n",
       "      <th>13</th>\n",
       "      <td>14</td>\n",
       "      <td>Sub_Category</td>\n",
       "      <td>Sub-Category of Item bought by customer</td>\n",
       "    </tr>\n",
       "    <tr>\n",
       "      <th>14</th>\n",
       "      <td>15</td>\n",
       "      <td>Items</td>\n",
       "      <td>Name if the item  bought by customer</td>\n",
       "    </tr>\n",
       "    <tr>\n",
       "      <th>15</th>\n",
       "      <td>16</td>\n",
       "      <td>Brand</td>\n",
       "      <td>Brand of the Item bought</td>\n",
       "    </tr>\n",
       "    <tr>\n",
       "      <th>16</th>\n",
       "      <td>17</td>\n",
       "      <td>Description</td>\n",
       "      <td>Description of the Item (weight/volume/pack si...</td>\n",
       "    </tr>\n",
       "    <tr>\n",
       "      <th>17</th>\n",
       "      <td>18</td>\n",
       "      <td>Price</td>\n",
       "      <td>Price per unit of the Item</td>\n",
       "    </tr>\n",
       "    <tr>\n",
       "      <th>18</th>\n",
       "      <td>19</td>\n",
       "      <td>QTY</td>\n",
       "      <td>Quantity bought by the cistomer</td>\n",
       "    </tr>\n",
       "    <tr>\n",
       "      <th>19</th>\n",
       "      <td>20</td>\n",
       "      <td>DISC</td>\n",
       "      <td>Discount offered by store</td>\n",
       "    </tr>\n",
       "    <tr>\n",
       "      <th>20</th>\n",
       "      <td>21</td>\n",
       "      <td>Net Bill Amount</td>\n",
       "      <td>Amount exclusive of tax payable to customer</td>\n",
       "    </tr>\n",
       "    <tr>\n",
       "      <th>21</th>\n",
       "      <td>22</td>\n",
       "      <td>GST</td>\n",
       "      <td>Tax Payable</td>\n",
       "    </tr>\n",
       "    <tr>\n",
       "      <th>22</th>\n",
       "      <td>23</td>\n",
       "      <td>Gross Bill Amount</td>\n",
       "      <td>Gross Bill to be paid by customer inclusive of...</td>\n",
       "    </tr>\n",
       "    <tr>\n",
       "      <th>23</th>\n",
       "      <td>24</td>\n",
       "      <td>Payment Mode</td>\n",
       "      <td>Mode of payment opted by customer</td>\n",
       "    </tr>\n",
       "    <tr>\n",
       "      <th>24</th>\n",
       "      <td>25</td>\n",
       "      <td>Bank Name</td>\n",
       "      <td>Name of the Bank</td>\n",
       "    </tr>\n",
       "    <tr>\n",
       "      <th>25</th>\n",
       "      <td>26</td>\n",
       "      <td>% Profit Margin</td>\n",
       "      <td>Percentage profit margin of store</td>\n",
       "    </tr>\n",
       "    <tr>\n",
       "      <th>26</th>\n",
       "      <td>27</td>\n",
       "      <td>% Operating Cost</td>\n",
       "      <td>Percentage operating cost of store</td>\n",
       "    </tr>\n",
       "    <tr>\n",
       "      <th>27</th>\n",
       "      <td>28</td>\n",
       "      <td>% Product Cost</td>\n",
       "      <td>Percentage product cost to store</td>\n",
       "    </tr>\n",
       "    <tr>\n",
       "      <th>28</th>\n",
       "      <td>29</td>\n",
       "      <td>Profit Margin</td>\n",
       "      <td>Profit Margin earned by store</td>\n",
       "    </tr>\n",
       "    <tr>\n",
       "      <th>29</th>\n",
       "      <td>30</td>\n",
       "      <td>Operating Cost</td>\n",
       "      <td>Operating cost beared by the store</td>\n",
       "    </tr>\n",
       "    <tr>\n",
       "      <th>30</th>\n",
       "      <td>31</td>\n",
       "      <td>Product Cost</td>\n",
       "      <td>Product Cost for the store</td>\n",
       "    </tr>\n",
       "  </tbody>\n",
       "</table>\n",
       "</div>"
      ],
      "text/plain": [
       "    S.No.          Column Name  \\\n",
       "0       1       Receipt Number   \n",
       "1       2                 Date   \n",
       "2       3                 Year   \n",
       "3       4                Month   \n",
       "4       5                 Time   \n",
       "5       6        Mobile Number   \n",
       "6       7        Membership ID   \n",
       "7       8  Loyalty Card Points   \n",
       "8       9                  Age   \n",
       "9      10               Gender   \n",
       "10     11                 City   \n",
       "11     12              Country   \n",
       "12     13             Category   \n",
       "13     14         Sub_Category   \n",
       "14     15                Items   \n",
       "15     16               Brand    \n",
       "16     17         Description    \n",
       "17     18                Price   \n",
       "18     19                  QTY   \n",
       "19     20                 DISC   \n",
       "20     21      Net Bill Amount   \n",
       "21     22                  GST   \n",
       "22     23    Gross Bill Amount   \n",
       "23     24         Payment Mode   \n",
       "24     25            Bank Name   \n",
       "25     26      % Profit Margin   \n",
       "26     27     % Operating Cost   \n",
       "27     28       % Product Cost   \n",
       "28     29        Profit Margin   \n",
       "29     30       Operating Cost   \n",
       "30     31         Product Cost   \n",
       "\n",
       "                      Description of the Column names  \n",
       "0                                  Transaction Number  \n",
       "1                                 Date of Transaction  \n",
       "2                                 Year of Transaction  \n",
       "3                                Month of Transaction  \n",
       "4                             Time of the transaction  \n",
       "5                      Monbile number of the customer  \n",
       "6                Unique Membership ID of the Customer  \n",
       "7   Loyalty Points earned by customer (10 Points/1...  \n",
       "8         Age of the Customer in the Company Database  \n",
       "9                              Gender of the customer  \n",
       "10                                 City Name of store  \n",
       "11                              Country Name of store  \n",
       "12                Category of Item bought by customer  \n",
       "13            Sub-Category of Item bought by customer  \n",
       "14               Name if the item  bought by customer  \n",
       "15                           Brand of the Item bought  \n",
       "16  Description of the Item (weight/volume/pack si...  \n",
       "17                         Price per unit of the Item  \n",
       "18                    Quantity bought by the cistomer  \n",
       "19                          Discount offered by store  \n",
       "20        Amount exclusive of tax payable to customer  \n",
       "21                                        Tax Payable  \n",
       "22  Gross Bill to be paid by customer inclusive of...  \n",
       "23                  Mode of payment opted by customer  \n",
       "24                                   Name of the Bank  \n",
       "25                  Percentage profit margin of store  \n",
       "26                 Percentage operating cost of store  \n",
       "27                   Percentage product cost to store  \n",
       "28                      Profit Margin earned by store  \n",
       "29                 Operating cost beared by the store  \n",
       "30                         Product Cost for the store  "
      ]
     },
     "execution_count": 7,
     "metadata": {},
     "output_type": "execute_result"
    }
   ],
   "source": [
    "xl.parse('Fact Summary')"
   ]
  },
  {
   "cell_type": "markdown",
   "metadata": {},
   "source": [
    "Читати дані можна і з Pandas, але тут немає можливості переглянути наявні листки, а також довше відбувається читання даних."
   ]
  },
  {
   "cell_type": "code",
   "execution_count": 8,
   "metadata": {
    "ExecuteTime": {
     "end_time": "2023-09-05T14:56:33.165702Z",
     "start_time": "2023-09-05T14:56:12.361890Z"
    }
   },
   "outputs": [],
   "source": [
    "df = pd.read_excel(path_to_file)"
   ]
  },
  {
   "cell_type": "markdown",
   "metadata": {},
   "source": [
    "В файлі ви знайдете самі дані та опис колонок.   \n",
    "\n",
    "**Задача**: Уявіть, що Вам дали цей набір даних з питанням \"Що корисного ми можемо з них взяти для розвитку нашого бізнесу?\". То Вам необхідно розказати бізнесу історію про ці дані у форматі\n",
    "1. питання, яке Вас як робітника цього бізнесу, який дуже вболіває за його успіх, цікавить щодо цих даних\n",
    "2. код для відповіді на це питання\n",
    "3. висновки, які я можу зробити з огляду на результат виконання коду: які рішення ми можемо прийняти щодо подальших кроків в аналізі або які рекомендації Ви б дали бізнесу виходячи з результатів.\n",
    "\n",
    "**Необхідно** поставити до даних _мінімум_ 10 бізнес-питань, при цьому зробивши   \n",
    "- початковий аналіз даних: їх розмір, структура, наявність пропущених значень та що з ними зробити, зміна типів даних там, де це доречно зробити (наприклад, якщо колонка завантажилась як тип string, а з опису видно, що там має бути float) - ця частина не входить у бізнес-питання, але є необхідною при аналізі даних.  \n",
    "- _мінімум_ 1 зведену таблицю або її аналог\n",
    "- _мінімум_ 5 візуалізацій, 3 з яких мають різний тип (наприклад, scatter plot, line plot, pair plot)\n",
    "\n",
    "В даному мінімум-наборі немає вимоги на використання SQL та тестування статистичних гіпотез. Але якщо Вам хочеться потренуватись, то Ви можете це зробити скориставшись pandasql, а також перевірити, чи є відмінність між двома групами у якомусь показнику з допомогою тестування статистичних гіпотез. Останнє найбільш доречно, якщо, наприклад, ми беремо чоловіків і жінок, бачимо що у них доволі схожі середні чеки, але наче відрізняються. Аби зрозуміти, чи різниця статистично значущою, можна це перевірити з допомогою тестування стат. гіпотез.\n",
    "\n",
    "Питанням може бути як \"Яка є кількість унікальних чеків в цьому наборі даних?\" так і щось значно складніше. Якщо у Вас складне питання, і аби відповісти на нього Ви мали відповісти на 3 менших питання (зробити якісь трансформації над даними, подивитись щось), то це рахується як 3 питання з 10 необхідних у завданні. Звісно ж Ви можете зробити більше за встановлений мінімум - все буде перевірено :)\n",
    "\n",
    "Тут є великий простір для Вашої фантазії. **Тому рекомендація:** виділіть на це завданні певну кількість годин (наприклад, середнє значення по тому, скільки у Вас займало виконання домашніх завдань в курсі, але я рекомендую не менше 2х годин роботи)\n",
    "і поставте собі за ціль всю роботу вмістити в цю кількість годин.\n",
    "Це дозволить Вам управляти своїм часом, пріоритизувати питання, які ставите до даних. І так часто є в роботі: коли ми не знаємо, що ми шукаємо, ми ставимо обмеження по часу (задача типу spike) і робимо все, що встигнемо, за цей час.\n",
    "\n",
    "По закінченню - завантажуємо ноутбук на git і додаємо посилання в здачу роботи в Eduflow. \n",
    "До речі, з часом, вам може захотітись доповнити цей ноутбук, коли арсенал ваших навичок по роботі з даними розшириться. І це буде чудова ідея!\n",
    "\n",
    "**Успіхів!**"
   ]
  },
  {
   "cell_type": "code",
   "execution_count": 9,
   "metadata": {
    "ExecuteTime": {
     "end_time": "2023-09-05T14:56:33.174101Z",
     "start_time": "2023-09-05T14:56:33.169854Z"
    }
   },
   "outputs": [
    {
     "data": {
      "text/plain": [
       "(50447, 32)"
      ]
     },
     "execution_count": 9,
     "metadata": {},
     "output_type": "execute_result"
    }
   ],
   "source": [
    "df.shape\n",
    "# let us see the data set shape"
   ]
  },
  {
   "cell_type": "code",
   "execution_count": 10,
   "metadata": {
    "ExecuteTime": {
     "end_time": "2023-09-05T14:56:33.249448Z",
     "start_time": "2023-09-05T14:56:33.178382Z"
    }
   },
   "outputs": [
    {
     "name": "stdout",
     "output_type": "stream",
     "text": [
      "<class 'pandas.core.frame.DataFrame'>\n",
      "RangeIndex: 50447 entries, 0 to 50446\n",
      "Data columns (total 32 columns):\n",
      " #   Column               Non-Null Count  Dtype         \n",
      "---  ------               --------------  -----         \n",
      " 0   Receipt Number       50447 non-null  object        \n",
      " 1   Date                 50447 non-null  datetime64[ns]\n",
      " 2   Year                 50447 non-null  int64         \n",
      " 3   Month                50447 non-null  int64         \n",
      " 4   Time                 50447 non-null  object        \n",
      " 5   Mobile Number        50447 non-null  int64         \n",
      " 6   Membership ID        50447 non-null  object        \n",
      " 7   Loyalty Card Points  50447 non-null  int64         \n",
      " 8   Age                  50447 non-null  int64         \n",
      " 9   Gender               50447 non-null  object        \n",
      " 10  City                 50447 non-null  object        \n",
      " 11  Country              50447 non-null  object        \n",
      " 12  Category             50447 non-null  object        \n",
      " 13  Sub_Category         50447 non-null  object        \n",
      " 14  Items                50447 non-null  object        \n",
      " 15  Brand                50447 non-null  object        \n",
      " 16  Description          50447 non-null  object        \n",
      " 17  Price                50447 non-null  float64       \n",
      " 18  QTY                  50447 non-null  int64         \n",
      " 19  DISC                 50447 non-null  float64       \n",
      " 20  Amount               50447 non-null  float64       \n",
      " 21  Net Bill Amount      50447 non-null  float64       \n",
      " 22  GST                  50447 non-null  float64       \n",
      " 23  Gross Bill Amount    50447 non-null  float64       \n",
      " 24  Payment Mode         50447 non-null  object        \n",
      " 25  Bank Name            50447 non-null  object        \n",
      " 26  % Profit Margin      50447 non-null  float64       \n",
      " 27  % Operating Cost     50447 non-null  float64       \n",
      " 28  % Product Cost       50447 non-null  float64       \n",
      " 29  Profit Margin        50447 non-null  float64       \n",
      " 30  Operating Cost       50447 non-null  float64       \n",
      " 31  Product Cost         50447 non-null  float64       \n",
      "dtypes: datetime64[ns](1), float64(12), int64(6), object(13)\n",
      "memory usage: 12.3+ MB\n"
     ]
    }
   ],
   "source": [
    "df.info()\n",
    "# let us et the basic information about th data set. Maybe we need to reset some of the data types."
   ]
  },
  {
   "cell_type": "code",
   "execution_count": 11,
   "metadata": {
    "ExecuteTime": {
     "end_time": "2023-09-05T14:56:33.300952Z",
     "start_time": "2023-09-05T14:56:33.253469Z"
    }
   },
   "outputs": [
    {
     "data": {
      "text/plain": [
       "Receipt Number         0\n",
       "Date                   0\n",
       "Year                   0\n",
       "Month                  0\n",
       "Time                   0\n",
       "Mobile Number          0\n",
       "Membership ID          0\n",
       "Loyalty Card Points    0\n",
       "Age                    0\n",
       "Gender                 0\n",
       "City                   0\n",
       "Country                0\n",
       "Category               0\n",
       "Sub_Category           0\n",
       "Items                  0\n",
       "Brand                  0\n",
       "Description            0\n",
       "Price                  0\n",
       "QTY                    0\n",
       "DISC                   0\n",
       "Amount                 0\n",
       "Net Bill Amount        0\n",
       "GST                    0\n",
       "Gross Bill Amount      0\n",
       "Payment Mode           0\n",
       "Bank Name              0\n",
       "% Profit Margin        0\n",
       "% Operating Cost       0\n",
       "% Product Cost         0\n",
       "Profit Margin          0\n",
       "Operating Cost         0\n",
       "Product Cost           0\n",
       "dtype: int64"
      ]
     },
     "execution_count": 11,
     "metadata": {},
     "output_type": "execute_result"
    }
   ],
   "source": [
    "df.isna().sum()\n",
    "# Let us check whether the data set has missing values."
   ]
  },
  {
   "cell_type": "code",
   "execution_count": 12,
   "metadata": {
    "ExecuteTime": {
     "end_time": "2023-09-05T14:56:33.319079Z",
     "start_time": "2023-09-05T14:56:33.304039Z"
    }
   },
   "outputs": [
    {
     "data": {
      "text/plain": [
       "Card      17149\n",
       "Wallet    16867\n",
       "Cash      16431\n",
       "Name: Payment Mode, dtype: int64"
      ]
     },
     "execution_count": 12,
     "metadata": {},
     "output_type": "execute_result"
    }
   ],
   "source": [
    "#1 What is the most common way of payment among costumers?\n",
    "\n",
    "df['Payment Mode'].value_counts()\n",
    "\n"
   ]
  },
  {
   "cell_type": "markdown",
   "metadata": {},
   "source": [
    "Conclusion: We can see that the most popular way of payment among customesr is card and wallt(e-wallet).\n",
    "\n",
    "Business ideas: 1.One can develop a mobile app e that allows customers to make contactless payments. This could include features like order-ahead and curbside pickup, creating a convenient and safe shopping experience. \n",
    "\n",
    "2.One can create a loyalty program app for grocery stores that rewards customers for using their cards for payments. Offer discounts, cashback, or points that can be used for future purchases. This can increase customer retention.\n",
    "\n",
    "3.One can create digital Receipts and expense tracking: develop an app that automatically stores and categorizes grocery receipts for customers when they pay with their cards. This can help individuals track their expenses, manage budgets, and even suggest ways to save money based on their purchase history.\n",
    "\n",
    "4.One can provide educational workshops: ffer workshops and training sessions to grocery store owners and staff on optimizing card payment systems, reducing fees, and enhancing the customer experience."
   ]
  },
  {
   "cell_type": "code",
   "execution_count": 72,
   "metadata": {
    "ExecuteTime": {
     "end_time": "2023-09-07T17:11:30.880099Z",
     "start_time": "2023-09-07T17:11:30.854704Z"
    }
   },
   "outputs": [
    {
     "data": {
      "text/plain": [
       "Category\n",
       "Bakery & Breakfast           6770\n",
       "Beauty                       5205\n",
       "Beverages                    2208\n",
       "Choco, Snacks, Sweets        3019\n",
       "Dairy, Chilled & Eggs        3381\n",
       "Frozen                       6393\n",
       "Fruit & Vegetable            4370\n",
       "Health                       1008\n",
       "Household                    1881\n",
       "Kitchen & Dining             2552\n",
       "Meat & Seafood               2149\n",
       "Mother & Baby                2064\n",
       "Party Supplies               1836\n",
       "Pet Care                     3465\n",
       "Rice & Cooking Essentials    2432\n",
       "Wines, Beers & Spirits       1714\n",
       "Name: Receipt_Number, dtype: int64"
      ]
     },
     "execution_count": 72,
     "metadata": {},
     "output_type": "execute_result"
    }
   ],
   "source": [
    "# 2 What are the most commonly purchased product categories?\n",
    "df.rename(columns = {'Receipt Number':'Receipt_Number'}, inplace = True)\n",
    "df.groupby(['Category']).Receipt_Number.count()\n",
    "\n",
    "\n",
    "\n"
   ]
  },
  {
   "cell_type": "markdown",
   "metadata": {},
   "source": [
    "Conclusion: One sees that the \"Bakery and breakfast is the most purchuased category\"\n",
    "\n",
    "Business ideas: 1. Gourmet Breakfast Delivery Service: Create a business that specializes in delivering gourmet breakfast options to people's homes or offices. \n",
    "\n",
    "2.Healthy Breakfast Subscription Box: Develop a subscription box service that delivers healthy breakfast options to subscribers each month. Include items like granola, yogurt, whole-grain muffins, and fresh fruit.\n",
    "\n",
    "3.Bakery Cafe: Open a bakery cafe that offer a menu with a variety of freshly baked pastries, bread, and breakfast sandwiches. of freshly baked goods alongside coffee and other breakfast beverages. Create a cozy atmosphere for customers to enjoy their morning meals.\n",
    "\n",
    "\n",
    "4.Bakery and Breakfast Food Truck: Launch a food truck that specializes in breakfast items, such as gourmet breakfast sandwiches, muffins, and coffee, which can be parked at popular morning destinations.\n",
    "Online Bakery: Create an online bakery where customers can order fresh baked goods for delivery or pickup. Offer a variety of options, including gluten-free, vegan, and specialty pastries.\n",
    "\n"
   ]
  },
  {
   "cell_type": "code",
   "execution_count": 14,
   "metadata": {
    "ExecuteTime": {
     "end_time": "2023-09-05T14:56:33.366426Z",
     "start_time": "2023-09-05T14:56:33.348970Z"
    }
   },
   "outputs": [
    {
     "data": {
      "text/plain": [
       "Category\n",
       "Bakery & Breakfast            5.222038\n",
       "Beauty                       10.063051\n",
       "Beverages                     8.297360\n",
       "Choco, Snacks, Sweets         5.770414\n",
       "Dairy, Chilled & Eggs         6.900683\n",
       "Frozen                        7.692615\n",
       "Fruit & Vegetable             5.570590\n",
       "Health                       13.693046\n",
       "Household                     8.855045\n",
       "Kitchen & Dining              3.753100\n",
       "Meat & Seafood               11.947627\n",
       "Mother & Baby                11.869695\n",
       "Party Supplies                4.641950\n",
       "Pet Care                      6.976049\n",
       "Rice & Cooking Essentials     3.507113\n",
       "Wines, Beers & Spirits       13.282456\n",
       "Name: Price, dtype: float64"
      ]
     },
     "execution_count": 14,
     "metadata": {},
     "output_type": "execute_result"
    }
   ],
   "source": [
    "# 3 What is the average price for the categories?\n",
    "df.groupby(['Category']).Price.mean()\n"
   ]
  },
  {
   "cell_type": "markdown",
   "metadata": {},
   "source": [
    "Conclusion: The highest price is i the category \"Health\"\n",
    "\n",
    "Business ideas : 1. Natural and Organic Cosmetics Line: Many consumers are increasingly looking for natural and organic cosmetics due to health and environmental concerns. One could develop a line of cosmetics that use natural and organic ingredients, targeting health-conscious consumers. \n",
    "\n",
    "\n",
    "2.Beauty Tech: Invest in beauty technology, such as AI-powered skincare analysis or virtual makeup try-on apps. You could provide these services to consumers, helping them find the right products for their skin type and tone.\n",
    "\n",
    "\n",
    "3.Online Beauty Consultations: Offer virtual beauty consultations where customers can receive personalized advice on skincare routines and product recommendations based on their unique needs.\n"
   ]
  },
  {
   "cell_type": "code",
   "execution_count": 26,
   "metadata": {
    "ExecuteTime": {
     "end_time": "2023-09-05T16:28:40.184122Z",
     "start_time": "2023-09-05T16:28:37.238258Z"
    }
   },
   "outputs": [],
   "source": [
    "import math\n",
    "import random\n",
    "import re\n",
    "\n",
    "import scipy\n",
    "import matplotlib.pyplot as plt\n",
    "import numpy as np\n",
    "import pandas as pd\n",
    "import statsmodels.api as sm\n",
    "from scipy import stats as st\n",
    "from scipy.stats import norm"
   ]
  },
  {
   "cell_type": "code",
   "execution_count": 38,
   "metadata": {
    "ExecuteTime": {
     "end_time": "2023-09-05T16:33:46.737842Z",
     "start_time": "2023-09-05T16:33:46.731066Z"
    }
   },
   "outputs": [
    {
     "data": {
      "text/plain": [
       "array([12.1128, 22.968 , 13.1769, ...,  3.9303,  4.059 ,  6.0291])"
      ]
     },
     "execution_count": 38,
     "metadata": {},
     "output_type": "execute_result"
    }
   ],
   "source": [
    "import numpy as np\n",
    "data = np.array(df['Amount'])\n"
   ]
  },
  {
   "cell_type": "code",
   "execution_count": 74,
   "metadata": {
    "ExecuteTime": {
     "end_time": "2023-09-07T21:21:54.586571Z",
     "start_time": "2023-09-07T21:21:54.365302Z"
    }
   },
   "outputs": [
    {
     "data": {
      "text/plain": [
       "0.03704166342059878"
      ]
     },
     "execution_count": 74,
     "metadata": {},
     "output_type": "execute_result"
    }
   ],
   "source": [
    "# 4 Is there a difference in the average bill at November when all people prepare for Christmas and January when they plan the year budget and dont't make great purchuases?\n",
    "(\n",
    "    df[\n",
    "        df[\"Month\"] == 11\n",
    "    ][\"Amount\"].mean() \n",
    "\n",
    "    - \n",
    "\n",
    "    df[\n",
    "        df[\"Month\"] == 1\n",
    "    ][\"Amount\"].mean()\n",
    ")"
   ]
  },
  {
   "cell_type": "markdown",
   "metadata": {},
   "source": [
    "Conclusion: There is a difference between November and January\n",
    "\n",
    "Business ideas: 1. Customized Gift Baskets: Create and sell customized holiday gift baskets filled with gourmet food items, wine, chocolates, and other festive goodies. Allow customers to select specific items to include, or offer pre-designed options for different occasions.\n",
    "\n",
    "2.Online Cooking Classes: Launch online cooking classes that focus on holiday-themed recipes. You can charge for access to live or recorded classes, and provide shopping lists with affiliate links to the necessary ingredients from local grocery stores.\n",
    "\n",
    "3.Holiday-Themed Pop-Up Shop: Set up a temporary pop-up shop in a high-traffic area during the holiday season. Offer seasonal items such as unique spices, specialty baking ingredients, or holiday decor, and create a festive atmosphere to attract shoppers.\n",
    "\n",
    "4.Holiday Food Truck: Operate a food truck specializing in holiday-themed dishes and treats. You can park the truck at popular holiday events, markets, or office complexes during lunch breaks.\n",
    "Local Food and Craft Market: Organize a holiday-themed local market where artisans, farmers, and food producers can sell their products. This could be a one-time event or a recurring market throughout the holiday season.\n"
   ]
  },
  {
   "cell_type": "code",
   "execution_count": 80,
   "metadata": {
    "ExecuteTime": {
     "end_time": "2023-09-12T19:52:17.685380Z",
     "start_time": "2023-09-12T19:52:17.612124Z"
    }
   },
   "outputs": [
    {
     "data": {
      "text/plain": [
       "'Bollinger Pink platted moscato rose'"
      ]
     },
     "execution_count": 80,
     "metadata": {},
     "output_type": "execute_result"
    }
   ],
   "source": [
    "# 5 What are the top-selling products in terms of quantity sold or revenue generated?\n",
    "\n",
    "df.rename(columns = {'Profit Margin':'Profit_Margin'}, inplace = True)\n",
    "df.groupby('Items').Amount.mean().idxmax()\n",
    "\n"
   ]
  },
  {
   "cell_type": "code",
   "execution_count": null,
   "metadata": {},
   "outputs": [],
   "source": [
    "# 6 What is the top-selling product category in terms of quantity sold or revenue generated?\n",
    "\n",
    "df.groupby('Sub_Category').Amount.mean().idxmax()"
   ]
  },
  {
   "cell_type": "markdown",
   "metadata": {},
   "source": [
    "Conclusion (5,6): One can see that Bollinger Pink platted moscato rose is the product that generstes the highest revenue.\n",
    "\n",
    "Business ideas: 1.Wine Subscription Service: Launch a subscription service specializing in premium rosé wines, including Bollinger Pink Platted Moscato Rosé.\n",
    "\n",
    "2.Wine Tasting Tours: If you're located in a wine-producing region, consider offering wine tasting tours that focus on rosé wines, including a tasting of Bollinger Pink Platted Moscato Rosé. Create unique and immersive experiences by partnering with local wineries for tours and tastings.\n",
    "\n",
    "3.Wine Education and Events: Organize wine education workshops, classes, and events centered around rosé wines. You could offer online courses, in-person tastings, and even host themed rosé parties, catering to both beginners and connoisseurs.\n"
   ]
  },
  {
   "cell_type": "code",
   "execution_count": 62,
   "metadata": {
    "ExecuteTime": {
     "end_time": "2023-08-30T09:37:18.342338Z",
     "start_time": "2023-08-30T09:37:18.326568Z"
    }
   },
   "outputs": [
    {
     "data": {
      "text/plain": [
       "array(['Choco, Snacks, Sweets', 'Wines, Beers & Spirits',\n",
       "       'Fruit & Vegetable', 'Pet Care', 'Meat & Seafood', 'Mother & Baby',\n",
       "       'Bakery & Breakfast', 'Household', 'Beverages', 'Beauty',\n",
       "       'Dairy, Chilled & Eggs', 'Frozen', 'Kitchen & Dining',\n",
       "       'Party Supplies', 'Rice & Cooking Essentials', 'Health'],\n",
       "      dtype=object)"
      ]
     },
     "execution_count": 62,
     "metadata": {},
     "output_type": "execute_result"
    }
   ],
   "source": [
    "df.Category.unique()\n"
   ]
  },
  {
   "cell_type": "code",
   "execution_count": 65,
   "metadata": {
    "ExecuteTime": {
     "end_time": "2023-08-30T09:48:15.200253Z",
     "start_time": "2023-08-30T09:48:15.156230Z"
    }
   },
   "outputs": [
    {
     "data": {
      "text/plain": [
       "Category                   Gender\n",
       "Bakery & Breakfast         Female    5596\n",
       "                           Male      1174\n",
       "Beauty                     Female    4309\n",
       "                           Male       896\n",
       "Beverages                  Female    1813\n",
       "                           Male       395\n",
       "Choco, Snacks, Sweets      Female    2472\n",
       "                           Male       547\n",
       "Dairy, Chilled & Eggs      Female    2808\n",
       "                           Male       573\n",
       "Frozen                     Female    5401\n",
       "                           Male       992\n",
       "Fruit & Vegetable          Female    3638\n",
       "                           Male       732\n",
       "Health                     Female     847\n",
       "                           Male       161\n",
       "Household                  Female    1536\n",
       "                           Male       345\n",
       "Kitchen & Dining           Female    2099\n",
       "                           Male       453\n",
       "Meat & Seafood             Female    1797\n",
       "                           Male       352\n",
       "Mother & Baby              Female    1727\n",
       "                           Male       337\n",
       "Party Supplies             Female    1541\n",
       "                           Male       295\n",
       "Pet Care                   Female    2850\n",
       "                           Male       615\n",
       "Rice & Cooking Essentials  Female    1966\n",
       "                           Male       466\n",
       "Wines, Beers & Spirits     Female    1422\n",
       "                           Male       292\n",
       "Name: Gender, dtype: int64"
      ]
     },
     "execution_count": 65,
     "metadata": {},
     "output_type": "execute_result"
    }
   ],
   "source": [
    "# 7 Who buys more in the \"Frozen\" category men or women?\n",
    "df.groupby('Category').Gender.value_counts()\n"
   ]
  },
  {
   "cell_type": "markdown",
   "metadata": {},
   "source": [
    "Conclusion: There less of male customers in the \"Frozen\" category.\n",
    "\n",
    "Business ideas: 1. Targeted Marketing Campaigns: The store can tailor marketing campaigns specifically toward men, promoting the frozen food products that they seem to prefer. This could involve creating advertisements, promotions, and displays that resonate with male shoppers.\n",
    "\n",
    "2.Product Placement and Store Layout: Adjust the store layout to prominently display frozen food items that are popular among men. Placing these products in areas that men frequently visit can increase their visibility and encourage more purchases.\n",
    "\n",
    "3.Product Assortment Optimization: Since men show a higher preference for frozen food, consider expanding the assortment of frozen food products that are particularly appealing to them. This might involve introducing new product lines or flavors that are more likely to attract male shoppers.\n"
   ]
  },
  {
   "cell_type": "code",
   "execution_count": 47,
   "metadata": {
    "ExecuteTime": {
     "end_time": "2023-09-05T16:51:08.735056Z",
     "start_time": "2023-09-05T16:51:08.716026Z"
    }
   },
   "outputs": [
    {
     "data": {
      "text/plain": [
       "32676    Mother & Baby\n",
       "Name: Category, dtype: object"
      ]
     },
     "execution_count": 47,
     "metadata": {},
     "output_type": "execute_result"
    }
   ],
   "source": [
    "# 8 At which category do we have the most expensive purchase?\n",
    "df.groupby('Membership ID').Price.mean().idxmax()\n",
    "df.loc[df['Membership ID'] == 'MIDSG0094'].Category\n",
    "\n"
   ]
  },
  {
   "cell_type": "code",
   "execution_count": null,
   "metadata": {},
   "outputs": [],
   "source": []
  },
  {
   "cell_type": "code",
   "execution_count": 76,
   "metadata": {
    "ExecuteTime": {
     "end_time": "2023-09-01T11:03:42.555614Z",
     "start_time": "2023-09-01T11:03:42.495739Z"
    }
   },
   "outputs": [
    {
     "data": {
      "text/plain": [
       "City\n",
       "Bedok           11.054826\n",
       "Jakarta         11.310233\n",
       "Kuala Lumpur    11.262599\n",
       "Manila          10.822900\n",
       "Woodlands       11.732765\n",
       "Name: Amount, dtype: float64"
      ]
     },
     "execution_count": 76,
     "metadata": {},
     "output_type": "execute_result"
    }
   ],
   "source": [
    "# 9 At what city customers have the highest average bill?\n",
    "df.groupby('City').Amount.mean()\n"
   ]
  },
  {
   "cell_type": "markdown",
   "metadata": {},
   "source": [
    "Premium Grocery Delivery Service:\n",
    "Create a high-end grocery delivery service that offers premium products, personalized shopping experiences, and convenient delivery options. \n",
    "\n",
    "Exclusive Cooking Classes:\n",
    "Organize exclusive cooking classes and workshops that teach customers how to prepare gourmet meals using premium ingredients. Collaborate with renowned chefs or culinary experts to provide a unique and educational experience. Offer classes in-person and online to reach a wider audience.\n",
    "\n",
    "\n",
    "\n",
    "Offer a personalized grocery shopping service where trained professionals assist customers in selecting the best products, optimizing their shopping lists, and finding the highest-quality items. This service is particularly appealing to busy individuals and families.\n",
    "\n"
   ]
  },
  {
   "cell_type": "code",
   "execution_count": null,
   "metadata": {},
   "outputs": [],
   "source": []
  },
  {
   "cell_type": "code",
   "execution_count": 82,
   "metadata": {
    "ExecuteTime": {
     "end_time": "2023-09-01T11:43:41.991404Z",
     "start_time": "2023-09-01T11:43:38.901532Z"
    }
   },
   "outputs": [
    {
     "data": {
      "text/plain": [
       "<seaborn.axisgrid.FacetGrid at 0x7ff2683ed430>"
      ]
     },
     "execution_count": 82,
     "metadata": {},
     "output_type": "execute_result"
    },
    {
     "data": {
      "image/png": "[encoded data removed]",
      "text/plain": [
       "<Figure size 360x360 with 1 Axes>"
      ]
     },
     "metadata": {
      "needs_background": "light"
     },
     "output_type": "display_data"
    }
   ],
   "source": [
    "# 10 At what city people have the lowest level of loyalty card points?\n",
    "#df.rename(columns = {'Loyalty Card Points':'Loyalty_Card_Points'}, inplace = True)\n",
    "sns.catplot(data = df, x=\"City\", y=\"Loyalty Card Points\", kind=\"box\")"
   ]
  },
  {
   "cell_type": "markdown",
   "metadata": {},
   "source": [
    "Loyalty Point Boost Program:\n",
    "Create a loyalty point boosting program specifically for Bedeck grocery stores. \n",
    "\n",
    "Personalized Loyalty Offers:\n",
    "Develop a data-driven loyalty system that analyzes customers' shopping habits and preferences. Offer personalized discounts and promotions based on their purchase history to incentivize them to return to the store. The more they shop, the more points they can accumulate.\n",
    "\n",
    "Exclusive Membership Club:\n",
    "Introduce an exclusive membership club for loyal customers. Offer premium benefits such as early access to discounts, special events, and personalized recommendations. Charge a monthly or annual fee for membership, which can help generate recurring revenue.\n",
    "\n",
    "Charity-driven Loyalty Program:\n",
    "Create a loyalty program that donates a percentage of each purchase to a local charity or cause. Customers can earn more points by contributing to the community through their shopping. This not only fosters loyalty but also promotes a positive image for the grocery store.\n",
    "\n"
   ]
  },
  {
   "cell_type": "code",
   "execution_count": 75,
   "metadata": {
    "ExecuteTime": {
     "end_time": "2023-09-12T19:10:17.370036Z",
     "start_time": "2023-09-12T19:10:16.518051Z"
    }
   },
   "outputs": [
    {
     "data": {
      "text/html": [
       "<div>\n",
       "<style scoped>\n",
       "    .dataframe tbody tr th:only-of-type {\n",
       "        vertical-align: middle;\n",
       "    }\n",
       "\n",
       "    .dataframe tbody tr th {\n",
       "        vertical-align: top;\n",
       "    }\n",
       "\n",
       "    .dataframe thead th {\n",
       "        text-align: right;\n",
       "    }\n",
       "</style>\n",
       "<table border=\"1\" class=\"dataframe\">\n",
       "  <thead>\n",
       "    <tr style=\"text-align: right;\">\n",
       "      <th>City</th>\n",
       "      <th>Bedok</th>\n",
       "      <th>Jakarta</th>\n",
       "      <th>Kuala Lumpur</th>\n",
       "      <th>Manila</th>\n",
       "      <th>Woodlands</th>\n",
       "    </tr>\n",
       "    <tr>\n",
       "      <th>Age</th>\n",
       "      <th></th>\n",
       "      <th></th>\n",
       "      <th></th>\n",
       "      <th></th>\n",
       "      <th></th>\n",
       "    </tr>\n",
       "  </thead>\n",
       "  <tbody>\n",
       "    <tr>\n",
       "      <th>15</th>\n",
       "      <td>2784.5174</td>\n",
       "      <td>2793.6930</td>\n",
       "      <td>1979.3798</td>\n",
       "      <td>2684.6992</td>\n",
       "      <td>1231.9019</td>\n",
       "    </tr>\n",
       "    <tr>\n",
       "      <th>16</th>\n",
       "      <td>3723.5775</td>\n",
       "      <td>1839.1363</td>\n",
       "      <td>4214.1807</td>\n",
       "      <td>3890.7314</td>\n",
       "      <td>2529.8478</td>\n",
       "    </tr>\n",
       "    <tr>\n",
       "      <th>17</th>\n",
       "      <td>3601.8660</td>\n",
       "      <td>2530.0170</td>\n",
       "      <td>5495.0694</td>\n",
       "      <td>4463.0577</td>\n",
       "      <td>1619.7760</td>\n",
       "    </tr>\n",
       "    <tr>\n",
       "      <th>18</th>\n",
       "      <td>4770.9461</td>\n",
       "      <td>3918.6245</td>\n",
       "      <td>4049.1765</td>\n",
       "      <td>3696.5842</td>\n",
       "      <td>2151.6184</td>\n",
       "    </tr>\n",
       "    <tr>\n",
       "      <th>19</th>\n",
       "      <td>2830.9589</td>\n",
       "      <td>4447.4399</td>\n",
       "      <td>8208.4761</td>\n",
       "      <td>2224.9030</td>\n",
       "      <td>860.2747</td>\n",
       "    </tr>\n",
       "  </tbody>\n",
       "</table>\n",
       "</div>"
      ],
      "text/plain": [
       "City      Bedok    Jakarta  Kuala Lumpur     Manila  Woodlands\n",
       "Age                                                           \n",
       "15    2784.5174  2793.6930     1979.3798  2684.6992  1231.9019\n",
       "16    3723.5775  1839.1363     4214.1807  3890.7314  2529.8478\n",
       "17    3601.8660  2530.0170     5495.0694  4463.0577  1619.7760\n",
       "18    4770.9461  3918.6245     4049.1765  3696.5842  2151.6184\n",
       "19    2830.9589  4447.4399     8208.4761  2224.9030   860.2747"
      ]
     },
     "execution_count": 75,
     "metadata": {},
     "output_type": "execute_result"
    }
   ],
   "source": [
    "# 11 Let us create a pivot_table\n",
    "age_pivot = df.pivot_table(index='Age', columns='City', values='Amount',aggfunc = 'sum')\n",
    "\n",
    "age_pivot.head()\n",
    "\n",
    "\n"
   ]
  },
  {
   "cell_type": "code",
   "execution_count": 76,
   "metadata": {
    "ExecuteTime": {
     "end_time": "2023-09-12T19:10:30.840296Z",
     "start_time": "2023-09-12T19:10:29.416237Z"
    }
   },
   "outputs": [
    {
     "data": {
      "image/png": "[encoded data removed]",
      "text/plain": [
       "<Figure size 432x288 with 1 Axes>"
      ]
     },
     "metadata": {
      "needs_background": "light"
     },
     "output_type": "display_data"
    }
   ],
   "source": [
    "# 12 What is the corelation between age and purchase price for every city?\n",
    "age_pivot.fillna(0).plot();"
   ]
  },
  {
   "cell_type": "markdown",
   "metadata": {},
   "source": [
    "Conclusion: one sees that in Kuala Lumpur people around 20 make the most expensive purchases. That look suspicious and takes needs some additional reserch to be done."
   ]
  },
  {
   "cell_type": "code",
   "execution_count": 54,
   "metadata": {
    "ExecuteTime": {
     "end_time": "2023-09-05T17:40:16.652455Z",
     "start_time": "2023-09-05T17:40:16.432336Z"
    }
   },
   "outputs": [
    {
     "data": {
      "image/png": "[encoded data removed]",
      "text/plain": [
       "<Figure size 640x400 with 1 Axes>"
      ]
     },
     "metadata": {
      "needs_background": "light"
     },
     "output_type": "display_data"
    }
   ],
   "source": [
    "# 13 What is the correlation between mont and amount?\n",
    "\n",
    "df_1 = df.groupby('Month').sum()\n",
    "plt.figure(figsize=(8,5), dpi=80)\n",
    "plt.plot('Amount', data = df_1);\n",
    "\n"
   ]
  },
  {
   "cell_type": "markdown",
   "metadata": {},
   "source": [
    "Conclusion: One sees that the the Amount increases sharply on December. That needs some additional analysis."
   ]
  },
  {
   "cell_type": "code",
   "execution_count": 61,
   "metadata": {
    "ExecuteTime": {
     "end_time": "2023-09-05T17:43:25.060083Z",
     "start_time": "2023-09-05T17:43:22.408671Z"
    }
   },
   "outputs": [
    {
     "data": {
      "image/png": "[encoded data removed]",
      "text/plain": [
       "<Figure size 432x288 with 1 Axes>"
      ]
     },
     "metadata": {
      "needs_background": "light"
     },
     "output_type": "display_data"
    }
   ],
   "source": [
    "# 14 Is there any correlation between Price and Discount?\n",
    "\n",
    "sns.regplot(\n",
    "    data = df,\n",
    "    x = 'Price', y='DISC', line_kws = {'color': 'red'}\n",
    ");\n"
   ]
  },
  {
   "cell_type": "markdown",
   "metadata": {},
   "source": [
    "Promotion Planning: Understanding the relationship between price and discount can help in planning promotional campaigns. For instance, during sales events or promotional periods, the business can strategically adjust both prices and discounts to attract more customers or boost sales.\n",
    "\n",
    "Inventory Management: Businesses can adjust their inventory levels based on the correlation. If lower prices lead to higher discounts and increased demand, they may need to ensure they have sufficient stock of the corresponding products to meet the expected demand during discount periods.\n",
    "\n",
    "Customer Segmentation: Analyzing the correlation can help in identifying customer segments. Some customers may be more price-sensitive and respond positively to discounts, while others may be less sensitive to price changes. Businesses can tailor marketing and pricing strategies to different customer segments accordingly."
   ]
  },
  {
   "cell_type": "code",
   "execution_count": 77,
   "metadata": {
    "ExecuteTime": {
     "end_time": "2023-09-12T19:26:23.644742Z",
     "start_time": "2023-09-12T19:26:15.287826Z"
    }
   },
   "outputs": [
    {
     "data": {
      "image/png": "[encoded data removed]",
      "text/plain": [
       "<Figure size 720x432 with 6 Axes>"
      ]
     },
     "metadata": {
      "needs_background": "light"
     },
     "output_type": "display_data"
    }
   ],
   "source": [
    "# 15 This visualization helps us to understand the distribution om Amount among the cities\n",
    "age_pivot.hist(figsize=(10,6))\n",
    "plt.tight_layout();"
   ]
  },
  {
   "cell_type": "code",
   "execution_count": 78,
   "metadata": {
    "ExecuteTime": {
     "end_time": "2023-09-12T19:30:27.812810Z",
     "start_time": "2023-09-12T19:30:27.766338Z"
    }
   },
   "outputs": [
    {
     "data": {
      "text/html": [
       "<div>\n",
       "<style scoped>\n",
       "    .dataframe tbody tr th:only-of-type {\n",
       "        vertical-align: middle;\n",
       "    }\n",
       "\n",
       "    .dataframe tbody tr th {\n",
       "        vertical-align: top;\n",
       "    }\n",
       "\n",
       "    .dataframe thead th {\n",
       "        text-align: right;\n",
       "    }\n",
       "</style>\n",
       "<table border=\"1\" class=\"dataframe\">\n",
       "  <thead>\n",
       "    <tr style=\"text-align: right;\">\n",
       "      <th>City</th>\n",
       "      <th>Bedok</th>\n",
       "      <th>Jakarta</th>\n",
       "      <th>Kuala Lumpur</th>\n",
       "      <th>Manila</th>\n",
       "      <th>Woodlands</th>\n",
       "    </tr>\n",
       "    <tr>\n",
       "      <th>Gender</th>\n",
       "      <th></th>\n",
       "      <th></th>\n",
       "      <th></th>\n",
       "      <th></th>\n",
       "      <th></th>\n",
       "    </tr>\n",
       "  </thead>\n",
       "  <tbody>\n",
       "    <tr>\n",
       "      <th>Female</th>\n",
       "      <td>122601.1731</td>\n",
       "      <td>83361.1450</td>\n",
       "      <td>92527.7172</td>\n",
       "      <td>104309.6095</td>\n",
       "      <td>66404.0654</td>\n",
       "    </tr>\n",
       "    <tr>\n",
       "      <th>Male</th>\n",
       "      <td>13063.6490</td>\n",
       "      <td>19652.4567</td>\n",
       "      <td>28691.6373</td>\n",
       "      <td>29677.8889</td>\n",
       "      <td>3100.8349</td>\n",
       "    </tr>\n",
       "  </tbody>\n",
       "</table>\n",
       "</div>"
      ],
      "text/plain": [
       "City          Bedok     Jakarta  Kuala Lumpur       Manila   Woodlands\n",
       "Gender                                                                \n",
       "Female  122601.1731  83361.1450    92527.7172  104309.6095  66404.0654\n",
       "Male     13063.6490  19652.4567    28691.6373   29677.8889   3100.8349"
      ]
     },
     "execution_count": 78,
     "metadata": {},
     "output_type": "execute_result"
    }
   ],
   "source": [
    "# 16 Lets ud create another pivot_table\n",
    "gender_pivot = df.pivot_table(index='Gender', columns='City', values='Amount',aggfunc = 'sum')\n",
    "\n",
    "gender_pivot.head()\n",
    "\n"
   ]
  },
  {
   "cell_type": "code",
   "execution_count": 79,
   "metadata": {
    "ExecuteTime": {
     "end_time": "2023-09-12T19:30:37.295643Z",
     "start_time": "2023-09-12T19:30:37.030367Z"
    }
   },
   "outputs": [
    {
     "data": {
      "image/png": "[encoded data removed]",
      "text/plain": [
       "<Figure size 720x432 with 1 Axes>"
      ]
     },
     "metadata": {
      "needs_background": "light"
     },
     "output_type": "display_data"
    }
   ],
   "source": [
    "# 17 At what city do female customers generate the highest Amount?\n",
    "gender_pivot.plot.bar(figsize=(10,6));\n"
   ]
  },
  {
   "cell_type": "markdown",
   "metadata": {},
   "source": [
    "Conclusion in Bedok female customers generate the highest Amount\n",
    "\n",
    "Marketing and Targeting: Knowing that female customers in Bedok are willing to spend more, a business can tailor its marketing efforts to target this specific demographic more effectively. This might include creating advertising campaigns and promotions that appeal specifically to female customers in that area.\n",
    "\n",
    "Inventory and Stocking: If female customers in Bedok prefer specific products, the business can optimize its inventory and stocking decisions. It can ensure that the products favored by this demographic are well-stocked and readily available.\n",
    "\n",
    "Customer Loyalty Programs: To incentivize repeat business from female customers, the business could implement customer loyalty programs or reward schemes tailored to their preferences. This can help in building customer loyalty and encouraging higher spending.\n",
    "\n",
    "Feedback and Surveys: To gain deeper insights into why female customers in Bedok are spending more, the business can conduct surveys or gather feedback. This information can help refine strategies and offerings.\n",
    "Partnerships and Collaborations: The business may explore partnerships or collaborations with other businesses or brands that resonate with female customers. This can help in cross-promotions and attracting a larger customer base."
   ]
  },
  {
   "cell_type": "code",
   "execution_count": null,
   "metadata": {},
   "outputs": [],
   "source": [
    "# 6зв'язок між місяцем і прайсом\n",
    "sns.regplot(\n",
    "    data = df,\n",
    "    x = 'Month', y='Amount', line_kws = {'color': 'red'}\n",
    ");"
   ]
  },
  {
   "cell_type": "code",
   "execution_count": null,
   "metadata": {},
   "outputs": [],
   "source": [
    "df.groupby('Category').mean().idxmax()"
   ]
  },
  {
   "cell_type": "code",
   "execution_count": null,
   "metadata": {},
   "outputs": [],
   "source": [
    "def time_split(time):\n",
    "    return int(time.split(':')[0])\n",
    "df['Hour'] = df.Time.apply(time_split)\n",
    "#df.head()\n",
    "#df.groupby('Hour').Amount.count()"
   ]
  }
 ],
 "metadata": {
  "kernelspec": {
   "display_name": "Python 3",
   "language": "python",
   "name": "python3"
  },
  "language_info": {
   "codemirror_mode": {
    "name": "ipython",
    "version": 3
   },
   "file_extension": ".py",
   "mimetype": "text/x-python",
   "name": "python",
   "nbconvert_exporter": "python",
   "pygments_lexer": "ipython3",
   "version": "3.8.5"
  },
  "toc": {
   "base_numbering": 1,
   "nav_menu": {},
   "number_sections": true,
   "sideBar": true,
   "skip_h1_title": false,
   "title_cell": "Table of Contents",
   "title_sidebar": "Contents",
   "toc_cell": false,
   "toc_position": {},
   "toc_section_display": true,
   "toc_window_display": false
  }
 },
 "nbformat": 4,
 "nbformat_minor": 5
}
